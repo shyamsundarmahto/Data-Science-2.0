{
 "cells": [
  {
   "cell_type": "code",
   "execution_count": 3,
   "id": "a823c98b-6a2b-4f6d-931f-12d04fa5c325",
   "metadata": {},
   "outputs": [
    {
     "data": {
      "text/plain": [
       "9"
      ]
     },
     "execution_count": 3,
     "metadata": {},
     "output_type": "execute_result"
    }
   ],
   "source": [
    "6+3"
   ]
  },
  {
   "cell_type": "code",
   "execution_count": 4,
   "id": "1f8dd863-f124-4bc7-b5f4-9e65c6091ecb",
   "metadata": {},
   "outputs": [
    {
     "name": "stdout",
     "output_type": "stream",
     "text": [
      "9\n"
     ]
    }
   ],
   "source": [
    "print(6+3)"
   ]
  },
  {
   "cell_type": "code",
   "execution_count": 10,
   "id": "fd99ef4b-ff75-441b-a8d0-c1f474767f94",
   "metadata": {},
   "outputs": [
    {
     "data": {
      "text/plain": [
       "12"
      ]
     },
     "execution_count": 10,
     "metadata": {},
     "output_type": "execute_result"
    }
   ],
   "source": [
    "int(12)"
   ]
  },
  {
   "cell_type": "code",
   "execution_count": 12,
   "id": "2cc9c617-b797-417d-9cf7-99e6c8483bad",
   "metadata": {},
   "outputs": [
    {
     "data": {
      "text/plain": [
       "int"
      ]
     },
     "execution_count": 12,
     "metadata": {},
     "output_type": "execute_result"
    }
   ],
   "source": [
    "type(int(12))"
   ]
  },
  {
   "cell_type": "code",
   "execution_count": 5,
   "id": "1ee7bb4a-91ce-49bf-97a2-5c62ab9eec97",
   "metadata": {},
   "outputs": [
    {
     "name": "stdout",
     "output_type": "stream",
     "text": [
      "my name is shyam and age is 24\n"
     ]
    }
   ],
   "source": [
    "name=\"shyam\"\n",
    "age=24\n",
    "print(\"my name is {} and age is {}\".format(name,age))"
   ]
  },
  {
   "cell_type": "code",
   "execution_count": 16,
   "id": "47272f79-d476-4ae6-8424-ebf5c0d97bf9",
   "metadata": {},
   "outputs": [
    {
     "name": "stdin",
     "output_type": "stream",
     "text": [
      "Enter your age: 78\n"
     ]
    },
    {
     "name": "stdout",
     "output_type": "stream",
     "text": [
      "You can not enter valid age.\n"
     ]
    }
   ],
   "source": [
    "age=int(input(\"Enter your age:\"))\n",
    "if age>=18 and age<=45:\n",
    "    print(\"you are young blood.\")\n",
    "else:\n",
    "    print(\"You can not enter valid age.\")"
   ]
  },
  {
   "cell_type": "code",
   "execution_count": 24,
   "id": "6eead315-d23e-4a63-841e-635934ab4bfd",
   "metadata": {},
   "outputs": [
    {
     "name": "stdin",
     "output_type": "stream",
     "text": [
      "Enter the product price: 100\n"
     ]
    },
    {
     "name": "stdout",
     "output_type": "stream",
     "text": [
      "The price of a product after dicount is: 70.0\n"
     ]
    }
   ],
   "source": [
    "##mall price\n",
    "price=int(input(\"Enter the product price:\"))\n",
    "if price>1000:\n",
    "    print(\"The price of a product after dicount is:\",price*0.80)\n",
    "else:    #else price<=1000:\n",
    "    print(\"The price of a product after dicount is:\",price*0.70)\n",
    "        "
   ]
  },
  {
   "cell_type": "code",
   "execution_count": 28,
   "id": "794fd137-f5b7-4526-a913-fa0ae4229f24",
   "metadata": {},
   "outputs": [
    {
     "name": "stdin",
     "output_type": "stream",
     "text": [
      "Enter the product price: 100\n"
     ]
    },
    {
     "name": "stdout",
     "output_type": "stream",
     "text": [
      "The price of a product after dicount is:70.0\n"
     ]
    }
   ],
   "source": [
    "##using .format\n",
    "##mall price\n",
    "price=int(input(\"Enter the product price:\"))\n",
    "if price>1000:\n",
    "    print(\"The price of a product after dicount is:{}\".format(price*0.80))\n",
    "else:    #else price<=1000:\n",
    "    print(\"The price of a product after dicount is:{}\".format(price*0.70))\n",
    "        "
   ]
  },
  {
   "cell_type": "code",
   "execution_count": 34,
   "id": "009390cd-4e70-4906-993c-bc40db5ff31f",
   "metadata": {},
   "outputs": [
    {
     "name": "stdin",
     "output_type": "stream",
     "text": [
      "Enter the product price: 4000\n"
     ]
    },
    {
     "name": "stdout",
     "output_type": "stream",
     "text": [
      "Congratulation u get a ticket of goa trip.\n",
      "The price of a product after dicount is:3200.0\n"
     ]
    }
   ],
   "source": [
    "#use if elif else\n",
    "##using .format\n",
    "##mall price\n",
    "price=int(input(\"Enter the product price:\"))\n",
    "if price>3000:\n",
    "    if price==4000:  ##nested if are used\n",
    "        print(\"Congratulation u get a ticket of goa trip.\")\n",
    "    print(\"The price of a product after dicount is:{}\".format(price*0.80))\n",
    "elif price>=2000 and price<=3000:\n",
    "    if price==2999:\n",
    "        print(\"Congratulation you get an additional discount.\")\n",
    "    print(\"The price of a product after dicount is:{}\".format(price*0.70))\n",
    "else:    \n",
    "    print(\"The price of a product after dicount is:{}\".format(price*0.60))\n",
    "        "
   ]
  },
  {
   "cell_type": "code",
   "execution_count": 35,
   "id": "3e6d2ceb-d5ff-4eb9-b040-9777aae28e09",
   "metadata": {},
   "outputs": [
    {
     "name": "stdin",
     "output_type": "stream",
     "text": [
      "Enter the product price: 5000\n"
     ]
    },
    {
     "name": "stdout",
     "output_type": "stream",
     "text": [
      "The price of a product after dicount is:4000.0\n"
     ]
    }
   ],
   "source": [
    "##single statement suites\n",
    "price=int(input(\"Enter the product price:\"))\n",
    "if price>3000:print(\"The price of a product after dicount is:{}\".format(price*0.80))\n"
   ]
  },
  {
   "cell_type": "code",
   "execution_count": null,
   "id": "6a17684a-e560-45be-94fe-6a00d728f928",
   "metadata": {},
   "outputs": [],
   "source": []
  }
 ],
 "metadata": {
  "kernelspec": {
   "display_name": "Python 3 (ipykernel)",
   "language": "python",
   "name": "python3"
  },
  "language_info": {
   "codemirror_mode": {
    "name": "ipython",
    "version": 3
   },
   "file_extension": ".py",
   "mimetype": "text/x-python",
   "name": "python",
   "nbconvert_exporter": "python",
   "pygments_lexer": "ipython3",
   "version": "3.10.8"
  }
 },
 "nbformat": 4,
 "nbformat_minor": 5
}
